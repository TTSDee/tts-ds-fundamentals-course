{
 "cells": [
  {
   "cell_type": "code",
   "execution_count": 1,
   "id": "fce01f5a",
   "metadata": {},
   "outputs": [],
   "source": [
    "import pandas as pd"
   ]
  },
  {
   "cell_type": "code",
   "execution_count": 3,
   "id": "d52e148e",
   "metadata": {},
   "outputs": [],
   "source": [
    "raw_data = {\"Name\": ['Jagras', 'Barroth','Rathian','Diablos'],\n",
    "            \"Evolution\": ['Great Jagras','Brute Barroth','Red Rathian','Black Diablos'],\n",
    "            \"Type\": ['water', 'none', 'fire', 'none'],\n",
    "            \"Hp\": [40, 45, 58, 55],\n",
    "            \"Place\": ['Great Forest', 'Wildspire Waste','Ancient Forest','Desert']}  "
   ]
  },
  {
   "cell_type": "code",
   "execution_count": 5,
   "id": "7573b1ef",
   "metadata": {
    "scrolled": false
   },
   "outputs": [
    {
     "data": {
      "text/html": [
       "<div>\n",
       "<style scoped>\n",
       "    .dataframe tbody tr th:only-of-type {\n",
       "        vertical-align: middle;\n",
       "    }\n",
       "\n",
       "    .dataframe tbody tr th {\n",
       "        vertical-align: top;\n",
       "    }\n",
       "\n",
       "    .dataframe thead th {\n",
       "        text-align: right;\n",
       "    }\n",
       "</style>\n",
       "<table border=\"1\" class=\"dataframe\">\n",
       "  <thead>\n",
       "    <tr style=\"text-align: right;\">\n",
       "      <th></th>\n",
       "      <th>Name</th>\n",
       "      <th>Evolution</th>\n",
       "      <th>Type</th>\n",
       "      <th>Hp</th>\n",
       "      <th>Place</th>\n",
       "    </tr>\n",
       "  </thead>\n",
       "  <tbody>\n",
       "    <tr>\n",
       "      <th>0</th>\n",
       "      <td>Jagras</td>\n",
       "      <td>Great Jagras</td>\n",
       "      <td>water</td>\n",
       "      <td>40</td>\n",
       "      <td>Great Forest</td>\n",
       "    </tr>\n",
       "    <tr>\n",
       "      <th>1</th>\n",
       "      <td>Barroth</td>\n",
       "      <td>Brute Barroth</td>\n",
       "      <td>none</td>\n",
       "      <td>45</td>\n",
       "      <td>Wildspire Waste</td>\n",
       "    </tr>\n",
       "    <tr>\n",
       "      <th>2</th>\n",
       "      <td>Rathian</td>\n",
       "      <td>Red Rathian</td>\n",
       "      <td>fire</td>\n",
       "      <td>58</td>\n",
       "      <td>Ancient Forest</td>\n",
       "    </tr>\n",
       "    <tr>\n",
       "      <th>3</th>\n",
       "      <td>Diablos</td>\n",
       "      <td>Black Diablos</td>\n",
       "      <td>none</td>\n",
       "      <td>55</td>\n",
       "      <td>Desert</td>\n",
       "    </tr>\n",
       "  </tbody>\n",
       "</table>\n",
       "</div>"
      ],
      "text/plain": [
       "      Name      Evolution   Type  Hp            Place\n",
       "0   Jagras   Great Jagras  water  40     Great Forest\n",
       "1  Barroth  Brute Barroth   none  45  Wildspire Waste\n",
       "2  Rathian    Red Rathian   fire  58   Ancient Forest\n",
       "3  Diablos  Black Diablos   none  55           Desert"
      ]
     },
     "execution_count": 5,
     "metadata": {},
     "output_type": "execute_result"
    }
   ],
   "source": [
    "monsterhunter = pd.DataFrame(raw_data)\n",
    "monsterhunter.head()"
   ]
  },
  {
   "cell_type": "code",
   "execution_count": 9,
   "id": "2c138361",
   "metadata": {
    "scrolled": true
   },
   "outputs": [
    {
     "data": {
      "text/html": [
       "<div>\n",
       "<style scoped>\n",
       "    .dataframe tbody tr th:only-of-type {\n",
       "        vertical-align: middle;\n",
       "    }\n",
       "\n",
       "    .dataframe tbody tr th {\n",
       "        vertical-align: top;\n",
       "    }\n",
       "\n",
       "    .dataframe thead th {\n",
       "        text-align: right;\n",
       "    }\n",
       "</style>\n",
       "<table border=\"1\" class=\"dataframe\">\n",
       "  <thead>\n",
       "    <tr style=\"text-align: right;\">\n",
       "      <th></th>\n",
       "      <th>Name</th>\n",
       "      <th>Type</th>\n",
       "      <th>Hp</th>\n",
       "      <th>Evolution</th>\n",
       "      <th>Place</th>\n",
       "    </tr>\n",
       "  </thead>\n",
       "  <tbody>\n",
       "    <tr>\n",
       "      <th>0</th>\n",
       "      <td>Jagras</td>\n",
       "      <td>water</td>\n",
       "      <td>40</td>\n",
       "      <td>Great Jagras</td>\n",
       "      <td>Great Forest</td>\n",
       "    </tr>\n",
       "    <tr>\n",
       "      <th>1</th>\n",
       "      <td>Barroth</td>\n",
       "      <td>none</td>\n",
       "      <td>45</td>\n",
       "      <td>Brute Barroth</td>\n",
       "      <td>Wildspire Waste</td>\n",
       "    </tr>\n",
       "    <tr>\n",
       "      <th>2</th>\n",
       "      <td>Rathian</td>\n",
       "      <td>fire</td>\n",
       "      <td>58</td>\n",
       "      <td>Red Rathian</td>\n",
       "      <td>Ancient Forest</td>\n",
       "    </tr>\n",
       "    <tr>\n",
       "      <th>3</th>\n",
       "      <td>Diablos</td>\n",
       "      <td>none</td>\n",
       "      <td>55</td>\n",
       "      <td>Black Diablos</td>\n",
       "      <td>Desert</td>\n",
       "    </tr>\n",
       "  </tbody>\n",
       "</table>\n",
       "</div>"
      ],
      "text/plain": [
       "      Name   Type  Hp      Evolution            Place\n",
       "0   Jagras  water  40   Great Jagras     Great Forest\n",
       "1  Barroth   none  45  Brute Barroth  Wildspire Waste\n",
       "2  Rathian   fire  58    Red Rathian   Ancient Forest\n",
       "3  Diablos   none  55  Black Diablos           Desert"
      ]
     },
     "execution_count": 9,
     "metadata": {},
     "output_type": "execute_result"
    }
   ],
   "source": [
    "monster = monsterhunter[['Name', 'Type', 'Hp', 'Evolution','Place']]\n",
    "monster"
   ]
  },
  {
   "cell_type": "code",
   "execution_count": 10,
   "id": "1d6b17b9",
   "metadata": {},
   "outputs": [
    {
     "name": "stderr",
     "output_type": "stream",
     "text": [
      "/var/folders/x0/l5zrfvbj2tl6s7bjqz24dchr0000gn/T/ipykernel_21291/1026627548.py:3: SettingWithCopyWarning: \n",
      "A value is trying to be set on a copy of a slice from a DataFrame.\n",
      "Try using .loc[row_indexer,col_indexer] = value instead\n",
      "\n",
      "See the caveats in the documentation: https://pandas.pydata.org/pandas-docs/stable/user_guide/indexing.html#returning-a-view-versus-a-copy\n",
      "  monster['Rank'] = ['low','medium','high','high']\n"
     ]
    },
    {
     "data": {
      "text/html": [
       "<div>\n",
       "<style scoped>\n",
       "    .dataframe tbody tr th:only-of-type {\n",
       "        vertical-align: middle;\n",
       "    }\n",
       "\n",
       "    .dataframe tbody tr th {\n",
       "        vertical-align: top;\n",
       "    }\n",
       "\n",
       "    .dataframe thead th {\n",
       "        text-align: right;\n",
       "    }\n",
       "</style>\n",
       "<table border=\"1\" class=\"dataframe\">\n",
       "  <thead>\n",
       "    <tr style=\"text-align: right;\">\n",
       "      <th></th>\n",
       "      <th>Name</th>\n",
       "      <th>Type</th>\n",
       "      <th>Hp</th>\n",
       "      <th>Evolution</th>\n",
       "      <th>Place</th>\n",
       "      <th>Rank</th>\n",
       "    </tr>\n",
       "  </thead>\n",
       "  <tbody>\n",
       "    <tr>\n",
       "      <th>0</th>\n",
       "      <td>Jagras</td>\n",
       "      <td>water</td>\n",
       "      <td>40</td>\n",
       "      <td>Great Jagras</td>\n",
       "      <td>Great Forest</td>\n",
       "      <td>low</td>\n",
       "    </tr>\n",
       "    <tr>\n",
       "      <th>1</th>\n",
       "      <td>Barroth</td>\n",
       "      <td>none</td>\n",
       "      <td>45</td>\n",
       "      <td>Brute Barroth</td>\n",
       "      <td>Wildspire Waste</td>\n",
       "      <td>medium</td>\n",
       "    </tr>\n",
       "    <tr>\n",
       "      <th>2</th>\n",
       "      <td>Rathian</td>\n",
       "      <td>fire</td>\n",
       "      <td>58</td>\n",
       "      <td>Red Rathian</td>\n",
       "      <td>Ancient Forest</td>\n",
       "      <td>high</td>\n",
       "    </tr>\n",
       "    <tr>\n",
       "      <th>3</th>\n",
       "      <td>Diablos</td>\n",
       "      <td>none</td>\n",
       "      <td>55</td>\n",
       "      <td>Black Diablos</td>\n",
       "      <td>Desert</td>\n",
       "      <td>high</td>\n",
       "    </tr>\n",
       "  </tbody>\n",
       "</table>\n",
       "</div>"
      ],
      "text/plain": [
       "      Name   Type  Hp      Evolution            Place    Rank\n",
       "0   Jagras  water  40   Great Jagras     Great Forest     low\n",
       "1  Barroth   none  45  Brute Barroth  Wildspire Waste  medium\n",
       "2  Rathian   fire  58    Red Rathian   Ancient Forest    high\n",
       "3  Diablos   none  55  Black Diablos           Desert    high"
      ]
     },
     "execution_count": 10,
     "metadata": {},
     "output_type": "execute_result"
    }
   ],
   "source": [
    "#Add another column called place, and insert what you have in mind#\n",
    "\n",
    "monster['Rank'] = ['low','medium','high','high']\n",
    "monster"
   ]
  },
  {
   "cell_type": "code",
   "execution_count": 11,
   "id": "17a24560",
   "metadata": {},
   "outputs": [
    {
     "data": {
      "text/plain": [
       "Name         object\n",
       "Type         object\n",
       "Hp            int64\n",
       "Evolution    object\n",
       "Place        object\n",
       "Rank         object\n",
       "dtype: object"
      ]
     },
     "execution_count": 11,
     "metadata": {},
     "output_type": "execute_result"
    }
   ],
   "source": [
    "#Present the type of each column#\n",
    "\n",
    "monster.dtypes"
   ]
  }
 ],
 "metadata": {
  "kernelspec": {
   "display_name": "Python 3 (ipykernel)",
   "language": "python",
   "name": "python3"
  },
  "language_info": {
   "codemirror_mode": {
    "name": "ipython",
    "version": 3
   },
   "file_extension": ".py",
   "mimetype": "text/x-python",
   "name": "python",
   "nbconvert_exporter": "python",
   "pygments_lexer": "ipython3",
   "version": "3.9.12"
  }
 },
 "nbformat": 4,
 "nbformat_minor": 5
}
