{
 "cells": [
  {
   "cell_type": "code",
   "execution_count": 2,
   "id": "da172215",
   "metadata": {},
   "outputs": [
    {
     "name": "stdout",
     "output_type": "stream",
     "text": [
      "Lana Pierre 315670\n",
      "2\n",
      "95 72\n",
      "Name: Pierre, Lana\n",
      "ID: 315670\n",
      "Grade: B\n"
     ]
    }
   ],
   "source": [
    "class Person:\n",
    "    def __init__(self, firstName, lastName, idNumber):\n",
    "        self.firstName = firstName\n",
    "        self.lastName = lastName\n",
    "        self.idNumber = idNumber\n",
    "    def printPerson(self):\n",
    "        print(\"Name:\", self.lastName + \",\", self.firstName)\n",
    "        print(\"ID:\", self.idNumber)\n",
    "\n",
    "class Student(Person):\n",
    "\n",
    "    def __init__(self, firstName, lastName, idNum, scores):\n",
    "        Person.__init__(self, firstName, lastName, idNum)\n",
    "        self.scores = scores\n",
    "\n",
    "    def calculate(self):\n",
    "        a = sum(scores) / len(scores)\n",
    "        if 90 <= a <= 100:\n",
    "            return \"A\"\n",
    "        elif 80 <= a < 90:\n",
    "            return \"B\"\n",
    "        elif 70 <= a < 79:\n",
    "            return \"C\"\n",
    "        elif 60 <= a < 69:\n",
    "            return \"D\"\n",
    "        elif 40 <= a < 55:\n",
    "            return \"F\"\n",
    "        else:\n",
    "            return \"T\"\n",
    "\n",
    "line = input().split()\n",
    "firstName = line[0]\n",
    "lastName = line[1]\n",
    "idNum = line[2]\n",
    "numScores = int(input()) # not needed for Python\n",
    "scores = list( map(int, input().split()) )\n",
    "s = Student(firstName, lastName, idNum, scores)\n",
    "s.printPerson()\n",
    "print(\"Grade:\", s.calculate())\n"
   ]
  }
 ],
 "metadata": {
  "kernelspec": {
   "display_name": "Python 3 (ipykernel)",
   "language": "python",
   "name": "python3"
  },
  "language_info": {
   "codemirror_mode": {
    "name": "ipython",
    "version": 3
   },
   "file_extension": ".py",
   "mimetype": "text/x-python",
   "name": "python",
   "nbconvert_exporter": "python",
   "pygments_lexer": "ipython3",
   "version": "3.9.12"
  }
 },
 "nbformat": 4,
 "nbformat_minor": 5
}
